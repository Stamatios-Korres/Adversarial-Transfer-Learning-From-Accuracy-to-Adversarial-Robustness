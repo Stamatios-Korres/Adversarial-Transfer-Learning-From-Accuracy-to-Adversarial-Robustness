{
 "cells": [
  {
   "cell_type": "code",
   "execution_count": 13,
   "metadata": {},
   "outputs": [],
   "source": [
    "import os\n",
    "import sys\n",
    "\n",
    "module_path = os.path.abspath(os.path.join('..'))\n",
    "if module_path not in sys.path:\n",
    "    sys.path.append(module_path)\n",
    "import matplotlib.pyplot as plt\n",
    "%matplotlib inline\n",
    "\n",
    "import numpy as np\n",
    "import pandas as pd"
   ]
  },
  {
   "cell_type": "code",
   "execution_count": 14,
   "metadata": {},
   "outputs": [
    {
     "data": {
      "text/plain": [
       "['transfer_densenet121_10_layers',\n",
       " 'transfer_densenet121_12_layers',\n",
       " 'transfer_densenet121_14_layers',\n",
       " 'transfer_densenet121_all_layers',\n",
       " 'transfer_densenet121_last_layer',\n",
       " 'transfer_resnet56_10_layers',\n",
       " 'transfer_resnet56_12_layers',\n",
       " 'transfer_resnet56_14_layers',\n",
       " 'transfer_resnet56_all_layers',\n",
       " 'transfer_resnet56_all_layers_1',\n",
       " 'transfer_resnet56_last_layer']"
      ]
     },
     "execution_count": 14,
     "metadata": {},
     "output_type": "execute_result"
    }
   ],
   "source": [
    "model_path = '/users/Stathis/GoogleDrive/Garbage/'\n",
    "nets =  list(filter(lambda x: os.path.isdir(os.path.join(model_path, x)), os.listdir(model_path)))\n",
    "nets = [a for a in nets if 'transfer' in a]\n",
    "nets.sort()\n",
    "nets"
   ]
  },
  {
   "cell_type": "code",
   "execution_count": 15,
   "metadata": {},
   "outputs": [],
   "source": [
    "summaries = {}\n",
    "test_results ={}\n",
    "for net in nets:\n",
    "    stats_path =  os.path.join(model_path, net) +'/result_outputs'\n",
    "    data_train = pd.read_csv(stats_path+'/summary.csv', delimiter=\",\")\n",
    "    summaries[net] = data_train\n",
    "    stats_path =  os.path.join(model_path, net) +'/result_outputs'\n",
    "    data_train = pd.read_csv(stats_path+'/test_summary.csv', delimiter=\",\")\n",
    "    test_results[net] = data_train"
   ]
  },
  {
   "cell_type": "code",
   "execution_count": 17,
   "metadata": {},
   "outputs": [],
   "source": [
    "order = ['last_layer', '10_layers', '12_layers', '14_layers', 'all_layers']"
   ]
  },
  {
   "cell_type": "code",
   "execution_count": 28,
   "metadata": {},
   "outputs": [],
   "source": [
    "resnet = []\n",
    "densenet = []\n",
    "for o in order:\n",
    "    resnet.append(test_results['transfer_resnet56_'+o]['test_acc'][0])\n",
    "    densenet.append(test_results['transfer_densenet121_'+o]['test_acc'][0])"
   ]
  },
  {
   "cell_type": "code",
   "execution_count": 31,
   "metadata": {},
   "outputs": [
    {
     "data": {
      "text/plain": [
       "[0.7168710443037974,\n",
       " 0.8894000000000001,\n",
       " 0.8939000000000001,\n",
       " 0.904,\n",
       " 0.9165348101265824]"
      ]
     },
     "execution_count": 31,
     "metadata": {},
     "output_type": "execute_result"
    }
   ],
   "source": [
    "resnet"
   ]
  },
  {
   "cell_type": "code",
   "execution_count": 30,
   "metadata": {},
   "outputs": [
    {
     "data": {
      "text/plain": [
       "[0.8238726265822784, 0.9258, 0.9292999999999998, 0.926, 0.9508504746835444]"
      ]
     },
     "execution_count": 30,
     "metadata": {},
     "output_type": "execute_result"
    }
   ],
   "source": [
    "densenet"
   ]
  },
  {
   "cell_type": "code",
   "execution_count": 34,
   "metadata": {},
   "outputs": [
    {
     "data": {
      "text/plain": [
       "<matplotlib.collections.PathCollection at 0x121c63240>"
      ]
     },
     "execution_count": 34,
     "metadata": {},
     "output_type": "execute_result"
    },
    {
     "data": {
      "image/png": "[encoded data removed]",
      "text/plain": [
       "<Figure size 432x288 with 1 Axes>"
      ]
     },
     "metadata": {
      "needs_background": "light"
     },
     "output_type": "display_data"
    }
   ],
   "source": [
    "plt.scatter(x=order, y=resnet)\n",
    "plt.scatter(x=order, y=densenet)"
   ]
  }
 ],
 "metadata": {
  "kernelspec": {
   "display_name": "Python 3",
   "language": "python",
   "name": "python3"
  },
  "language_info": {
   "codemirror_mode": {
    "name": "ipython",
    "version": 3
   },
   "file_extension": ".py",
   "mimetype": "text/x-python",
   "name": "python",
   "nbconvert_exporter": "python",
   "pygments_lexer": "ipython3",
   "version": "3.6.7"
  }
 },
 "nbformat": 4,
 "nbformat_minor": 2
}
