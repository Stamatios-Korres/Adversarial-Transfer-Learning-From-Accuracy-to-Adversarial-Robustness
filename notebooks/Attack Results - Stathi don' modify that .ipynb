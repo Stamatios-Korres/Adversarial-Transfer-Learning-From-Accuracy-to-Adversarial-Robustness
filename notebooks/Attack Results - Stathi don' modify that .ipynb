{
 "cells": [
  {
   "cell_type": "markdown",
   "metadata": {},
   "source": [
    "## White -box attack"
   ]
  },
  {
   "cell_type": "code",
   "execution_count": 91,
   "metadata": {},
   "outputs": [],
   "source": [
    "import numpy as np\n",
    "import matplotlib.pyplot as plt\n",
    "import json\n",
    "import pandas as pd\n",
    "%matplotlib inline\n",
    "\n",
    "\n",
    "nets = {\n",
    "#         'resnet56_cifar10': 'cifar10',\n",
    "#         'resnet56_cifar10_fgsm': 'cifar10',\n",
    "#         'resnet56_cifar10_pgd': 'cifar10',\n",
    "    \n",
    "# #         'transfer_resnet56_fgsm_nat': 'cifar10',\n",
    "#         'transfer_resnet56_nat_fgsm': 'cifar10',\n",
    "#         'transfer_resnet56_fgsm_fgsm': 'cifar10',\n",
    "#         'transfer_resnet56_nat_nat': 'cifar10',\n",
    "    \n",
    "#         'densenet121_cifar10': 'cifar10',\n",
    "        'densenet121_cifar10_fgsm': 'cifar10',\n",
    "        'densenet121_cifar10_pgd': 'cifar10',\n",
    "        \n",
    "        \n",
    "        \n",
    "    \n",
    "#         'transfer_densenet121_fgsm_nat': 'cifar10',\n",
    "        'transfer_densenet121_nat_fgsm' : 'cifar10',\n",
    "        'transfer_densenet121_fgsm_fgsm' : 'cifar10',\n",
    "#         'transfer_densenet121_nat_nat': 'cifar10',\n",
    "    \n",
    "#         'transfer_resnet56_pgd_nat': 'cifar10',\n",
    "#         'transfer_resnet56_nat_pgd': 'cifar10',\n",
    "#         'transfer_resnet56_pgd_pgd': 'cifar10',\n",
    "       \n",
    "    \n",
    "        'transfer_densenet121_pgd_nat': 'cifar10',\n",
    "        'transfer_densenet121_nat_pgd' : 'cifar10',\n",
    "        'transfer_densenet121_pgd_pgd' : 'cifar10',\n",
    "        \n",
    "       \n",
    "#         'resnet56_cifar100': 'cifar100',\n",
    "#         'resnet56_cifar100_fgsm': 'cifar100',\n",
    "#         'resnet56_cifar100_pgd': 'cifar100',\n",
    "               \n",
    "#         'densenet121_cifar100': 'cifar100',\n",
    "#         'densenet121_cifar100_fgsm': 'cifar100',\n",
    "#         'densenet121_cifar100_pgd': 'cifar100',\n",
    "        \n",
    "\n",
    "        \n",
    "}\n",
    "\n",
    "transfer_method= {'nat','pgd','fgsm'}\n",
    "trained_method= {'nat','pgd','fgsm'}\n",
    "attack_results = {}"
   ]
  },
  {
   "cell_type": "code",
   "execution_count": 92,
   "metadata": {},
   "outputs": [],
   "source": [
    "for net,data in nets.items():\n",
    "    model_path = '../experiments_results/attack_results_pgd_7/white_box_attacks_pgd_7_'+net+'.json'\n",
    "    with open(model_path,'r+') as json_data:\n",
    "        attack_results[net] = json.load(json_data)\n",
    "    \n",
    "    "
   ]
  },
  {
   "cell_type": "code",
   "execution_count": 93,
   "metadata": {},
   "outputs": [],
   "source": [
    "data_table = {}\n",
    "for name,dic in attack_results.items():\n",
    "    vals = [0] * 3\n",
    "    for key,value in dic.items():\n",
    "        key = key.split('_')\n",
    "        if key[-1] == 'clean':\n",
    "            vals[0] = value\n",
    "        elif key[-1] == 'fgsm':\n",
    "            vals[1] = value\n",
    "        elif key[-1] == 'pgd':\n",
    "            vals[2] = value\n",
    "    data_table[name] = vals\n"
   ]
  },
  {
   "cell_type": "code",
   "execution_count": 94,
   "metadata": {},
   "outputs": [],
   "source": [
    "a = pd.DataFrame.from_dict(data_table).transpose()\n",
    "a.columns= ['clean','fgsm','pgd']\n",
    "# print(a.to_latex())\n",
    "a=a.sort_values('clean',ascending = False)"
   ]
  },
  {
   "cell_type": "code",
   "execution_count": null,
   "metadata": {},
   "outputs": [],
   "source": []
  },
  {
   "cell_type": "code",
   "execution_count": 95,
   "metadata": {},
   "outputs": [
    {
     "data": {
      "text/plain": [
       "<matplotlib.axes._subplots.AxesSubplot at 0x7fe5c1812a20>"
      ]
     },
     "execution_count": 95,
     "metadata": {},
     "output_type": "execute_result"
    },
    {
     "data": {
      "text/plain": [
       "<Figure size 1152x720 with 0 Axes>"
      ]
     },
     "metadata": {},
     "output_type": "display_data"
    },
    {
     "data": {
      "image/png": "[encoded data removed]",
      "text/plain": [
       "<Figure size 1152x720 with 1 Axes>"
      ]
     },
     "metadata": {
      "needs_background": "light"
     },
     "output_type": "display_data"
    }
   ],
   "source": [
    "plt.figure(figsize=(16,10))\n",
    "a.plot(figsize=(16,10), kind='bar')"
   ]
  },
  {
   "cell_type": "markdown",
   "metadata": {},
   "source": [
    "## Black-box attacks"
   ]
  },
  {
   "cell_type": "code",
   "execution_count": 51,
   "metadata": {},
   "outputs": [],
   "source": [
    "black_box_path = '../experiments_results/attack_results/black_box_results_e_0125.json'\n",
    "with open(black_box_path,'r+') as json_data:\n",
    "    black_box_results = json.load(json_data)"
   ]
  },
  {
   "cell_type": "code",
   "execution_count": 52,
   "metadata": {},
   "outputs": [
    {
     "data": {
      "text/plain": [
       "[{'resnet56_cifar10_attacked_by_fgsm_acc': 0.5136000000000001,\n",
       "  'resnet56_cifar10_fgsm_attacked_by_fgsm_acc': 0.7877999999999998,\n",
       "  'densenet121_cifar10_fgsm_attacked_by_fgsm_acc': 0.7964,\n",
       "  'transfer_densenet121_fgsm_fgsm_attacked_by_fgsm_acc': 0.7181000000000001,\n",
       "  'transfer_densenet121_fgsm_nat_attacked_by_fgsm_acc': 0.6553,\n",
       "  'transfer_densenet121_nat_fgsm_attacked_by_fgsm_acc': 0.6537999999999998,\n",
       "  'transfer_resnet56_nat_fgsm_attacked_by_fgsm_acc': 0.6850999999999999,\n",
       "  'transfer_resnet56_fgsm_fgsm_attacked_by_fgsm_acc': 0.7586000000000002,\n",
       "  'transfer_resnet56_fgsm_nat_attacked_by_fgsm_acc': 0.7180000000000001}]"
      ]
     },
     "execution_count": 52,
     "metadata": {},
     "output_type": "execute_result"
    }
   ],
   "source": [
    "black_box_results['cifar10']"
   ]
  },
  {
   "cell_type": "code",
   "execution_count": null,
   "metadata": {},
   "outputs": [],
   "source": []
  }
 ],
 "metadata": {
  "kernelspec": {
   "display_name": "Python 3",
   "language": "python",
   "name": "python3"
  },
  "language_info": {
   "codemirror_mode": {
    "name": "ipython",
    "version": 3
   },
   "file_extension": ".py",
   "mimetype": "text/x-python",
   "name": "python",
   "nbconvert_exporter": "python",
   "pygments_lexer": "ipython3",
   "version": "3.6.8"
  },
  "varInspector": {
   "cols": {
    "lenName": 16,
    "lenType": 16,
    "lenVar": 40
   },
   "kernels_config": {
    "python": {
     "delete_cmd_postfix": "",
     "delete_cmd_prefix": "del ",
     "library": "var_list.py",
     "varRefreshCmd": "print(var_dic_list())"
    },
    "r": {
     "delete_cmd_postfix": ") ",
     "delete_cmd_prefix": "rm(",
     "library": "var_list.r",
     "varRefreshCmd": "cat(var_dic_list()) "
    }
   },
   "types_to_exclude": [
    "module",
    "function",
    "builtin_function_or_method",
    "instance",
    "_Feature"
   ],
   "window_display": false
  }
 },
 "nbformat": 4,
 "nbformat_minor": 2
}
