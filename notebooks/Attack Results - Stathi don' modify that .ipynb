{
 "cells": [
  {
   "cell_type": "markdown",
   "metadata": {},
   "source": [
    "## White -box attack"
   ]
  },
  {
   "cell_type": "code",
   "execution_count": 1,
   "metadata": {},
   "outputs": [],
   "source": [
    "import numpy as np\n",
    "import matplotlib.pyplot as plt\n",
    "import json\n",
    "import pandas as pd\n",
    "%matplotlib inline\n",
    "\n",
    "\n",
    "nets = {\n",
    "        'resnet56_cifar10': 'cifar10',\n",
    "        'resnet56_cifar10_fgsm': 'cifar10',\n",
    "        'resnet56_cifar10_pgd': 'cifar10',\n",
    "    \n",
    "        'transfer_resnet56_fgsm_nat': 'cifar10',\n",
    "        'transfer_resnet56_nat_fgsm': 'cifar10',\n",
    "        'transfer_resnet56_fgsm_fgsm': 'cifar10',\n",
    "       \n",
    "        'densenet121_cifar10': 'cifar10',\n",
    "        'densenet121_cifar10_fgsm': 'cifar10',\n",
    "        'densenet121_cifar10_pgd': 'cifar10',\n",
    "        \n",
    "        \n",
    "        \n",
    "    \n",
    "        'transfer_densenet121_fgsm_nat': 'cifar10',\n",
    "        'transfer_densenet121_nat_fgsm' : 'cifar10',\n",
    "        'transfer_densenet121_fgsm_fgsm' : 'cifar10',\n",
    "        \n",
    "       \n",
    "# #         'resnet56_cifar100': 'cifar100',\n",
    "#         'resnet56_cifar100_fgsm': 'cifar100',\n",
    "#         'resnet56_cifar100_pgd': 'cifar100',\n",
    "               \n",
    "#         'densenet121_cifar100': 'cifar100',\n",
    "#         'densenet121_cifar100_fgsm': 'cifar100',\n",
    "#         'densenet121_cifar100_pgd': 'cifar100',\n",
    "        \n",
    "\n",
    "        \n",
    "}\n",
    "\n",
    "transfer_method= {'nat','pgd','fgsm'}\n",
    "trained_method= {'nat','pgd','fgsm'}\n",
    "attack_results = {}"
   ]
  },
  {
   "cell_type": "code",
   "execution_count": 2,
   "metadata": {},
   "outputs": [],
   "source": [
    "for net,data in nets.items():\n",
    "    model_path = '../experiments_results/attack_results_pgd_7/white_box_attacks_pgd_7_'+net+'.json'\n",
    "    with open(model_path,'r+') as json_data:\n",
    "        attack_results[net] = json.load(json_data)\n",
    "    \n",
    "    "
   ]
  },
  {
   "cell_type": "code",
   "execution_count": 3,
   "metadata": {},
   "outputs": [],
   "source": [
    "data_table = {}\n",
    "for name,dic in attack_results.items():\n",
    "    vals = [0] * 3\n",
    "    for key,value in dic.items():\n",
    "        key = key.split('_')\n",
    "        if key[-1] == 'clean':\n",
    "            vals[0] = value\n",
    "        elif key[-1] == 'fgsm':\n",
    "            vals[1] = value\n",
    "        elif key[-1] == 'pgd':\n",
    "            vals[2] = value\n",
    "    data_table[name] = vals\n"
   ]
  },
  {
   "cell_type": "code",
   "execution_count": 4,
   "metadata": {},
   "outputs": [
    {
     "name": "stdout",
     "output_type": "stream",
     "text": [
      "\\begin{tabular}{lrrr}\n",
      "\\toprule\n",
      "{} &   clean &    fgsm &     pgd \\\\\n",
      "\\midrule\n",
      "resnet56\\_cifar10               &  0.9286 &  0.3721 &  0.0478 \\\\\n",
      "resnet56\\_cifar10\\_fgsm          &  0.8861 &  0.5343 &  0.1961 \\\\\n",
      "resnet56\\_cifar10\\_pgd           &  0.8817 &  0.5657 &  0.2137 \\\\\n",
      "transfer\\_resnet56\\_fgsm\\_nat     &  0.8733 &  0.3834 &  0.1090 \\\\\n",
      "transfer\\_resnet56\\_nat\\_fgsm     &  0.8977 &  0.4816 &  0.0748 \\\\\n",
      "transfer\\_resnet56\\_fgsm\\_fgsm    &  0.8642 &  0.4044 &  0.1392 \\\\\n",
      "densenet121\\_cifar10            &  0.9322 &  0.3582 &  0.0439 \\\\\n",
      "densenet121\\_cifar10\\_fgsm       &  0.9098 &  0.5503 &  0.1606 \\\\\n",
      "densenet121\\_cifar10\\_pgd        &  0.8794 &  0.5116 &  0.1961 \\\\\n",
      "transfer\\_densenet121\\_fgsm\\_nat  &  0.8633 &  0.4019 &  0.1047 \\\\\n",
      "transfer\\_densenet121\\_nat\\_fgsm  &  0.8710 &  0.5111 &  0.0795 \\\\\n",
      "transfer\\_densenet121\\_fgsm\\_fgsm &  0.8590 &  0.4603 &  0.1272 \\\\\n",
      "\\bottomrule\n",
      "\\end{tabular}\n",
      "\n"
     ]
    }
   ],
   "source": [
    "a = pd.DataFrame.from_dict(data_table).transpose()\n",
    "a.columns= ['clean','fgsm','pgd']\n",
    "print(a.to_latex())"
   ]
  },
  {
   "cell_type": "markdown",
   "metadata": {},
   "source": [
    "## Black-box attacks"
   ]
  },
  {
   "cell_type": "code",
   "execution_count": 8,
   "metadata": {},
   "outputs": [],
   "source": [
    "black_box_path = '../experiments_results/attack_results/black_box_results_e_0125.json'\n",
    "with open(black_box_path,'r+') as json_data:\n",
    "    black_box_results = json.load(json_data)"
   ]
  },
  {
   "cell_type": "code",
   "execution_count": 9,
   "metadata": {},
   "outputs": [
    {
     "data": {
      "text/plain": [
       "[{'resnet56_cifar10_attacked_by_fgsm_acc': 0.5136000000000001,\n",
       "  'resnet56_cifar10_fgsm_attacked_by_fgsm_acc': 0.7877999999999998,\n",
       "  'densenet121_cifar10_fgsm_attacked_by_fgsm_acc': 0.7964,\n",
       "  'transfer_densenet121_fgsm_fgsm_attacked_by_fgsm_acc': 0.7181000000000001,\n",
       "  'transfer_densenet121_fgsm_nat_attacked_by_fgsm_acc': 0.6553,\n",
       "  'transfer_densenet121_nat_fgsm_attacked_by_fgsm_acc': 0.6537999999999998,\n",
       "  'transfer_resnet56_nat_fgsm_attacked_by_fgsm_acc': 0.6850999999999999,\n",
       "  'transfer_resnet56_fgsm_fgsm_attacked_by_fgsm_acc': 0.7586000000000002,\n",
       "  'transfer_resnet56_fgsm_nat_attacked_by_fgsm_acc': 0.7180000000000001}]"
      ]
     },
     "execution_count": 9,
     "metadata": {},
     "output_type": "execute_result"
    }
   ],
   "source": [
    "black_box_results['cifar10']"
   ]
  },
  {
   "cell_type": "code",
   "execution_count": null,
   "metadata": {},
   "outputs": [],
   "source": []
  }
 ],
 "metadata": {
  "kernelspec": {
   "display_name": "Python 3",
   "language": "python",
   "name": "python3"
  },
  "language_info": {
   "codemirror_mode": {
    "name": "ipython",
    "version": 3
   },
   "file_extension": ".py",
   "mimetype": "text/x-python",
   "name": "python",
   "nbconvert_exporter": "python",
   "pygments_lexer": "ipython3",
   "version": "3.6.8"
  },
  "varInspector": {
   "cols": {
    "lenName": 16,
    "lenType": 16,
    "lenVar": 40
   },
   "kernels_config": {
    "python": {
     "delete_cmd_postfix": "",
     "delete_cmd_prefix": "del ",
     "library": "var_list.py",
     "varRefreshCmd": "print(var_dic_list())"
    },
    "r": {
     "delete_cmd_postfix": ") ",
     "delete_cmd_prefix": "rm(",
     "library": "var_list.r",
     "varRefreshCmd": "cat(var_dic_list()) "
    }
   },
   "types_to_exclude": [
    "module",
    "function",
    "builtin_function_or_method",
    "instance",
    "_Feature"
   ],
   "window_display": false
  }
 },
 "nbformat": 4,
 "nbformat_minor": 2
}
