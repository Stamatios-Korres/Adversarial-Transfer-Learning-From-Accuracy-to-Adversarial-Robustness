{
 "cells": [
  {
   "cell_type": "code",
   "execution_count": 17,
   "metadata": {},
   "outputs": [],
   "source": [
    "import os\n",
    "import sys\n",
    "module_path = os.path.abspath(os.path.join('..'))\n",
    "if module_path not in sys.path:\n",
    "    sys.path.append(module_path)\n",
    "    \n",
    "import torch   \n",
    "from utils.data_utils import getDataProviders\n",
    "from utils.arg_extractor import get_args\n",
    "from utils.experiment_builder import ExperimentBuilder\n",
    "from utils.utils import load_net"
   ]
  },
  {
   "cell_type": "code",
   "execution_count": 18,
   "metadata": {},
   "outputs": [],
   "source": [
    "# model_path = '../experiments_results/resnet56_cifar100_to_cifar10/saved_models/train_model_best'\n",
    "model_path = '../experiments_results/resnet56_cifar10_test_save/saved_models/train_model_latest'"
   ]
  },
  {
   "cell_type": "code",
   "execution_count": 19,
   "metadata": {},
   "outputs": [],
   "source": [
    "model_dict = torch.load(model_path, map_location='cpu')"
   ]
  },
  {
   "cell_type": "code",
   "execution_count": 23,
   "metadata": {
    "scrolled": false
   },
   "outputs": [
    {
     "data": {
      "text/plain": [
       "odict_keys(['model.module.conv1.weight', 'model.module.bn1.weight', 'model.module.bn1.bias', 'model.module.bn1.running_mean', 'model.module.bn1.running_var', 'model.module.bn1.num_batches_tracked', 'model.module.layer1.0.conv1.weight', 'model.module.layer1.0.bn1.weight', 'model.module.layer1.0.bn1.bias', 'model.module.layer1.0.bn1.running_mean', 'model.module.layer1.0.bn1.running_var', 'model.module.layer1.0.bn1.num_batches_tracked', 'model.module.layer1.0.conv2.weight', 'model.module.layer1.0.bn2.weight', 'model.module.layer1.0.bn2.bias', 'model.module.layer1.0.bn2.running_mean', 'model.module.layer1.0.bn2.running_var', 'model.module.layer1.0.bn2.num_batches_tracked', 'model.module.layer1.1.conv1.weight', 'model.module.layer1.1.bn1.weight', 'model.module.layer1.1.bn1.bias', 'model.module.layer1.1.bn1.running_mean', 'model.module.layer1.1.bn1.running_var', 'model.module.layer1.1.bn1.num_batches_tracked', 'model.module.layer1.1.conv2.weight', 'model.module.layer1.1.bn2.weight', 'model.module.layer1.1.bn2.bias', 'model.module.layer1.1.bn2.running_mean', 'model.module.layer1.1.bn2.running_var', 'model.module.layer1.1.bn2.num_batches_tracked', 'model.module.layer1.2.conv1.weight', 'model.module.layer1.2.bn1.weight', 'model.module.layer1.2.bn1.bias', 'model.module.layer1.2.bn1.running_mean', 'model.module.layer1.2.bn1.running_var', 'model.module.layer1.2.bn1.num_batches_tracked', 'model.module.layer1.2.conv2.weight', 'model.module.layer1.2.bn2.weight', 'model.module.layer1.2.bn2.bias', 'model.module.layer1.2.bn2.running_mean', 'model.module.layer1.2.bn2.running_var', 'model.module.layer1.2.bn2.num_batches_tracked', 'model.module.layer1.3.conv1.weight', 'model.module.layer1.3.bn1.weight', 'model.module.layer1.3.bn1.bias', 'model.module.layer1.3.bn1.running_mean', 'model.module.layer1.3.bn1.running_var', 'model.module.layer1.3.bn1.num_batches_tracked', 'model.module.layer1.3.conv2.weight', 'model.module.layer1.3.bn2.weight', 'model.module.layer1.3.bn2.bias', 'model.module.layer1.3.bn2.running_mean', 'model.module.layer1.3.bn2.running_var', 'model.module.layer1.3.bn2.num_batches_tracked', 'model.module.layer1.4.conv1.weight', 'model.module.layer1.4.bn1.weight', 'model.module.layer1.4.bn1.bias', 'model.module.layer1.4.bn1.running_mean', 'model.module.layer1.4.bn1.running_var', 'model.module.layer1.4.bn1.num_batches_tracked', 'model.module.layer1.4.conv2.weight', 'model.module.layer1.4.bn2.weight', 'model.module.layer1.4.bn2.bias', 'model.module.layer1.4.bn2.running_mean', 'model.module.layer1.4.bn2.running_var', 'model.module.layer1.4.bn2.num_batches_tracked', 'model.module.layer1.5.conv1.weight', 'model.module.layer1.5.bn1.weight', 'model.module.layer1.5.bn1.bias', 'model.module.layer1.5.bn1.running_mean', 'model.module.layer1.5.bn1.running_var', 'model.module.layer1.5.bn1.num_batches_tracked', 'model.module.layer1.5.conv2.weight', 'model.module.layer1.5.bn2.weight', 'model.module.layer1.5.bn2.bias', 'model.module.layer1.5.bn2.running_mean', 'model.module.layer1.5.bn2.running_var', 'model.module.layer1.5.bn2.num_batches_tracked', 'model.module.layer1.6.conv1.weight', 'model.module.layer1.6.bn1.weight', 'model.module.layer1.6.bn1.bias', 'model.module.layer1.6.bn1.running_mean', 'model.module.layer1.6.bn1.running_var', 'model.module.layer1.6.bn1.num_batches_tracked', 'model.module.layer1.6.conv2.weight', 'model.module.layer1.6.bn2.weight', 'model.module.layer1.6.bn2.bias', 'model.module.layer1.6.bn2.running_mean', 'model.module.layer1.6.bn2.running_var', 'model.module.layer1.6.bn2.num_batches_tracked', 'model.module.layer1.7.conv1.weight', 'model.module.layer1.7.bn1.weight', 'model.module.layer1.7.bn1.bias', 'model.module.layer1.7.bn1.running_mean', 'model.module.layer1.7.bn1.running_var', 'model.module.layer1.7.bn1.num_batches_tracked', 'model.module.layer1.7.conv2.weight', 'model.module.layer1.7.bn2.weight', 'model.module.layer1.7.bn2.bias', 'model.module.layer1.7.bn2.running_mean', 'model.module.layer1.7.bn2.running_var', 'model.module.layer1.7.bn2.num_batches_tracked', 'model.module.layer1.8.conv1.weight', 'model.module.layer1.8.bn1.weight', 'model.module.layer1.8.bn1.bias', 'model.module.layer1.8.bn1.running_mean', 'model.module.layer1.8.bn1.running_var', 'model.module.layer1.8.bn1.num_batches_tracked', 'model.module.layer1.8.conv2.weight', 'model.module.layer1.8.bn2.weight', 'model.module.layer1.8.bn2.bias', 'model.module.layer1.8.bn2.running_mean', 'model.module.layer1.8.bn2.running_var', 'model.module.layer1.8.bn2.num_batches_tracked', 'model.module.layer2.0.conv1.weight', 'model.module.layer2.0.bn1.weight', 'model.module.layer2.0.bn1.bias', 'model.module.layer2.0.bn1.running_mean', 'model.module.layer2.0.bn1.running_var', 'model.module.layer2.0.bn1.num_batches_tracked', 'model.module.layer2.0.conv2.weight', 'model.module.layer2.0.bn2.weight', 'model.module.layer2.0.bn2.bias', 'model.module.layer2.0.bn2.running_mean', 'model.module.layer2.0.bn2.running_var', 'model.module.layer2.0.bn2.num_batches_tracked', 'model.module.layer2.1.conv1.weight', 'model.module.layer2.1.bn1.weight', 'model.module.layer2.1.bn1.bias', 'model.module.layer2.1.bn1.running_mean', 'model.module.layer2.1.bn1.running_var', 'model.module.layer2.1.bn1.num_batches_tracked', 'model.module.layer2.1.conv2.weight', 'model.module.layer2.1.bn2.weight', 'model.module.layer2.1.bn2.bias', 'model.module.layer2.1.bn2.running_mean', 'model.module.layer2.1.bn2.running_var', 'model.module.layer2.1.bn2.num_batches_tracked', 'model.module.layer2.2.conv1.weight', 'model.module.layer2.2.bn1.weight', 'model.module.layer2.2.bn1.bias', 'model.module.layer2.2.bn1.running_mean', 'model.module.layer2.2.bn1.running_var', 'model.module.layer2.2.bn1.num_batches_tracked', 'model.module.layer2.2.conv2.weight', 'model.module.layer2.2.bn2.weight', 'model.module.layer2.2.bn2.bias', 'model.module.layer2.2.bn2.running_mean', 'model.module.layer2.2.bn2.running_var', 'model.module.layer2.2.bn2.num_batches_tracked', 'model.module.layer2.3.conv1.weight', 'model.module.layer2.3.bn1.weight', 'model.module.layer2.3.bn1.bias', 'model.module.layer2.3.bn1.running_mean', 'model.module.layer2.3.bn1.running_var', 'model.module.layer2.3.bn1.num_batches_tracked', 'model.module.layer2.3.conv2.weight', 'model.module.layer2.3.bn2.weight', 'model.module.layer2.3.bn2.bias', 'model.module.layer2.3.bn2.running_mean', 'model.module.layer2.3.bn2.running_var', 'model.module.layer2.3.bn2.num_batches_tracked', 'model.module.layer2.4.conv1.weight', 'model.module.layer2.4.bn1.weight', 'model.module.layer2.4.bn1.bias', 'model.module.layer2.4.bn1.running_mean', 'model.module.layer2.4.bn1.running_var', 'model.module.layer2.4.bn1.num_batches_tracked', 'model.module.layer2.4.conv2.weight', 'model.module.layer2.4.bn2.weight', 'model.module.layer2.4.bn2.bias', 'model.module.layer2.4.bn2.running_mean', 'model.module.layer2.4.bn2.running_var', 'model.module.layer2.4.bn2.num_batches_tracked', 'model.module.layer2.5.conv1.weight', 'model.module.layer2.5.bn1.weight', 'model.module.layer2.5.bn1.bias', 'model.module.layer2.5.bn1.running_mean', 'model.module.layer2.5.bn1.running_var', 'model.module.layer2.5.bn1.num_batches_tracked', 'model.module.layer2.5.conv2.weight', 'model.module.layer2.5.bn2.weight', 'model.module.layer2.5.bn2.bias', 'model.module.layer2.5.bn2.running_mean', 'model.module.layer2.5.bn2.running_var', 'model.module.layer2.5.bn2.num_batches_tracked', 'model.module.layer2.6.conv1.weight', 'model.module.layer2.6.bn1.weight', 'model.module.layer2.6.bn1.bias', 'model.module.layer2.6.bn1.running_mean', 'model.module.layer2.6.bn1.running_var', 'model.module.layer2.6.bn1.num_batches_tracked', 'model.module.layer2.6.conv2.weight', 'model.module.layer2.6.bn2.weight', 'model.module.layer2.6.bn2.bias', 'model.module.layer2.6.bn2.running_mean', 'model.module.layer2.6.bn2.running_var', 'model.module.layer2.6.bn2.num_batches_tracked', 'model.module.layer2.7.conv1.weight', 'model.module.layer2.7.bn1.weight', 'model.module.layer2.7.bn1.bias', 'model.module.layer2.7.bn1.running_mean', 'model.module.layer2.7.bn1.running_var', 'model.module.layer2.7.bn1.num_batches_tracked', 'model.module.layer2.7.conv2.weight', 'model.module.layer2.7.bn2.weight', 'model.module.layer2.7.bn2.bias', 'model.module.layer2.7.bn2.running_mean', 'model.module.layer2.7.bn2.running_var', 'model.module.layer2.7.bn2.num_batches_tracked', 'model.module.layer2.8.conv1.weight', 'model.module.layer2.8.bn1.weight', 'model.module.layer2.8.bn1.bias', 'model.module.layer2.8.bn1.running_mean', 'model.module.layer2.8.bn1.running_var', 'model.module.layer2.8.bn1.num_batches_tracked', 'model.module.layer2.8.conv2.weight', 'model.module.layer2.8.bn2.weight', 'model.module.layer2.8.bn2.bias', 'model.module.layer2.8.bn2.running_mean', 'model.module.layer2.8.bn2.running_var', 'model.module.layer2.8.bn2.num_batches_tracked', 'model.module.layer3.0.conv1.weight', 'model.module.layer3.0.bn1.weight', 'model.module.layer3.0.bn1.bias', 'model.module.layer3.0.bn1.running_mean', 'model.module.layer3.0.bn1.running_var', 'model.module.layer3.0.bn1.num_batches_tracked', 'model.module.layer3.0.conv2.weight', 'model.module.layer3.0.bn2.weight', 'model.module.layer3.0.bn2.bias', 'model.module.layer3.0.bn2.running_mean', 'model.module.layer3.0.bn2.running_var', 'model.module.layer3.0.bn2.num_batches_tracked', 'model.module.layer3.1.conv1.weight', 'model.module.layer3.1.bn1.weight', 'model.module.layer3.1.bn1.bias', 'model.module.layer3.1.bn1.running_mean', 'model.module.layer3.1.bn1.running_var', 'model.module.layer3.1.bn1.num_batches_tracked', 'model.module.layer3.1.conv2.weight', 'model.module.layer3.1.bn2.weight', 'model.module.layer3.1.bn2.bias', 'model.module.layer3.1.bn2.running_mean', 'model.module.layer3.1.bn2.running_var', 'model.module.layer3.1.bn2.num_batches_tracked', 'model.module.layer3.2.conv1.weight', 'model.module.layer3.2.bn1.weight', 'model.module.layer3.2.bn1.bias', 'model.module.layer3.2.bn1.running_mean', 'model.module.layer3.2.bn1.running_var', 'model.module.layer3.2.bn1.num_batches_tracked', 'model.module.layer3.2.conv2.weight', 'model.module.layer3.2.bn2.weight', 'model.module.layer3.2.bn2.bias', 'model.module.layer3.2.bn2.running_mean', 'model.module.layer3.2.bn2.running_var', 'model.module.layer3.2.bn2.num_batches_tracked', 'model.module.layer3.3.conv1.weight', 'model.module.layer3.3.bn1.weight', 'model.module.layer3.3.bn1.bias', 'model.module.layer3.3.bn1.running_mean', 'model.module.layer3.3.bn1.running_var', 'model.module.layer3.3.bn1.num_batches_tracked', 'model.module.layer3.3.conv2.weight', 'model.module.layer3.3.bn2.weight', 'model.module.layer3.3.bn2.bias', 'model.module.layer3.3.bn2.running_mean', 'model.module.layer3.3.bn2.running_var', 'model.module.layer3.3.bn2.num_batches_tracked', 'model.module.layer3.4.conv1.weight', 'model.module.layer3.4.bn1.weight', 'model.module.layer3.4.bn1.bias', 'model.module.layer3.4.bn1.running_mean', 'model.module.layer3.4.bn1.running_var', 'model.module.layer3.4.bn1.num_batches_tracked', 'model.module.layer3.4.conv2.weight', 'model.module.layer3.4.bn2.weight', 'model.module.layer3.4.bn2.bias', 'model.module.layer3.4.bn2.running_mean', 'model.module.layer3.4.bn2.running_var', 'model.module.layer3.4.bn2.num_batches_tracked', 'model.module.layer3.5.conv1.weight', 'model.module.layer3.5.bn1.weight', 'model.module.layer3.5.bn1.bias', 'model.module.layer3.5.bn1.running_mean', 'model.module.layer3.5.bn1.running_var', 'model.module.layer3.5.bn1.num_batches_tracked', 'model.module.layer3.5.conv2.weight', 'model.module.layer3.5.bn2.weight', 'model.module.layer3.5.bn2.bias', 'model.module.layer3.5.bn2.running_mean', 'model.module.layer3.5.bn2.running_var', 'model.module.layer3.5.bn2.num_batches_tracked', 'model.module.layer3.6.conv1.weight', 'model.module.layer3.6.bn1.weight', 'model.module.layer3.6.bn1.bias', 'model.module.layer3.6.bn1.running_mean', 'model.module.layer3.6.bn1.running_var', 'model.module.layer3.6.bn1.num_batches_tracked', 'model.module.layer3.6.conv2.weight', 'model.module.layer3.6.bn2.weight', 'model.module.layer3.6.bn2.bias', 'model.module.layer3.6.bn2.running_mean', 'model.module.layer3.6.bn2.running_var', 'model.module.layer3.6.bn2.num_batches_tracked', 'model.module.layer3.7.conv1.weight', 'model.module.layer3.7.bn1.weight', 'model.module.layer3.7.bn1.bias', 'model.module.layer3.7.bn1.running_mean', 'model.module.layer3.7.bn1.running_var', 'model.module.layer3.7.bn1.num_batches_tracked', 'model.module.layer3.7.conv2.weight', 'model.module.layer3.7.bn2.weight', 'model.module.layer3.7.bn2.bias', 'model.module.layer3.7.bn2.running_mean', 'model.module.layer3.7.bn2.running_var', 'model.module.layer3.7.bn2.num_batches_tracked', 'model.module.layer3.8.conv1.weight', 'model.module.layer3.8.bn1.weight', 'model.module.layer3.8.bn1.bias', 'model.module.layer3.8.bn1.running_mean', 'model.module.layer3.8.bn1.running_var', 'model.module.layer3.8.bn1.num_batches_tracked', 'model.module.layer3.8.conv2.weight', 'model.module.layer3.8.bn2.weight', 'model.module.layer3.8.bn2.bias', 'model.module.layer3.8.bn2.running_mean', 'model.module.layer3.8.bn2.running_var', 'model.module.layer3.8.bn2.num_batches_tracked', 'model.module.linear.weight', 'model.module.linear.bias'])"
      ]
     },
     "execution_count": 23,
     "metadata": {},
     "output_type": "execute_result"
    }
   ],
   "source": [
    "model_dict['network'].keys()"
   ]
  },
  {
   "cell_type": "code",
   "execution_count": 21,
   "metadata": {
    "scrolled": false
   },
   "outputs": [],
   "source": [
    "# net = load_net('resnet56', model_path, 100)\n"
   ]
  },
  {
   "cell_type": "code",
   "execution_count": 22,
   "metadata": {},
   "outputs": [],
   "source": [
    "import torch.nn as nn\n",
    "class MyModule(nn.Module):\n",
    "    def __init__(self, model):\n",
    "        super(MyModule, self).__init__()\n",
    "        self.model = model"
   ]
  },
  {
   "cell_type": "code",
   "execution_count": 15,
   "metadata": {},
   "outputs": [],
   "source": [
    "from utils.resnets_cifar_adapted import ResNet,BasicBlock\n",
    "net = ResNet(BasicBlock, [9, 9, 9],num_classes=10)\n",
    "from utils.densenets import DenseNet, Bottleneck\n",
    "# net=DenseNet(Bottleneck, [6,12,24,16], growth_rate=32,num_classes = 10)\n",
    "net = nn.DataParallel(net)"
   ]
  },
  {
   "cell_type": "code",
   "execution_count": 16,
   "metadata": {},
   "outputs": [],
   "source": [
    "mynet = MyModule(net)\n",
    "model_dict = torch.load(model_path, map_location='cpu')\n",
    "mynet.load_state_dict(model_dict['network'])"
   ]
  },
  {
   "cell_type": "code",
   "execution_count": 65,
   "metadata": {
    "scrolled": false
   },
   "outputs": [],
   "source": [
    "new_state={'network':mynet.model.module.state_dict()}"
   ]
  },
  {
   "cell_type": "code",
   "execution_count": 66,
   "metadata": {},
   "outputs": [],
   "source": [
    "torch.save(new_state, f=model_path+'_correct')"
   ]
  }
 ],
 "metadata": {
  "kernelspec": {
   "display_name": "Python 3",
   "language": "python",
   "name": "python3"
  },
  "language_info": {
   "codemirror_mode": {
    "name": "ipython",
    "version": 3
   },
   "file_extension": ".py",
   "mimetype": "text/x-python",
   "name": "python",
   "nbconvert_exporter": "python",
   "pygments_lexer": "ipython3",
   "version": "3.6.7"
  }
 },
 "nbformat": 4,
 "nbformat_minor": 2
}
