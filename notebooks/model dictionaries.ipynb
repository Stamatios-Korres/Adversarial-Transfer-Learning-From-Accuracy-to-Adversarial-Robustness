{
 "cells": [
  {
   "cell_type": "code",
   "execution_count": 128,
   "metadata": {},
   "outputs": [],
   "source": [
    "import os\n",
    "import sys\n",
    "module_path = os.path.abspath(os.path.join('..'))\n",
    "if module_path not in sys.path:\n",
    "    sys.path.append(module_path)\n",
    "    \n",
    "import torch   \n",
    "from utils.data_utils import getDataProviders\n",
    "from utils.arg_extractor import get_args\n",
    "from utils.experiment_builder import ExperimentBuilder\n",
    "from utils.storage_utils import dict_load"
   ]
  },
  {
   "cell_type": "code",
   "execution_count": 129,
   "metadata": {},
   "outputs": [
    {
     "name": "stdout",
     "output_type": "stream",
     "text": [
      "Loading cifar100 model from ../experiments_results/densenet121_cifar100/saved_models/train_model_best\n"
     ]
    }
   ],
   "source": [
    "model='densenet121'\n",
    "source_net='cifar100'\n",
    "num_original_classes=100\n",
    "MODELS_DIR='../experiments_results/'\n",
    "model_path =os.path.join(MODELS_DIR, \"%s_%s/saved_models/train_model_best\" % (model, source_net))\n",
    "print('Loading %s model from %s' % (source_net, model_path))"
   ]
  },
  {
   "cell_type": "code",
   "execution_count": 229,
   "metadata": {
    "scrolled": false
   },
   "outputs": [
    {
     "name": "stdout",
     "output_type": "stream",
     "text": [
      "resnet56 cifar10\n",
      "../experiments_results/resnet56_cifar10/saved_models/train_model_best\n",
      "['network']\n",
      "resnet56 cifar100\n",
      "../experiments_results/resnet56_cifar100/saved_models/train_model_best\n",
      "['network']\n",
      "densenet121 cifar10\n",
      "../experiments_results/densenet121_cifar10/saved_models/train_model_best\n"
     ]
    },
    {
     "name": "stderr",
     "output_type": "stream",
     "text": [
      "/Users/stathis/Code/mlpcw4/utils/resnets_cifar_adapted.py:37: UserWarning: nn.init.kaiming_normal is now deprecated in favor of nn.init.kaiming_normal_.\n",
      "  init.kaiming_normal(m.weight)\n"
     ]
    },
    {
     "name": "stdout",
     "output_type": "stream",
     "text": [
      "['network']\n",
      "densenet121 cifar100\n",
      "../experiments_results/densenet121_cifar100/saved_models/train_model_best\n",
      "['network']\n"
     ]
    }
   ],
   "source": [
    "for model in ['resnet56', 'densenet121']:\n",
    "    for source_net in ['cifar10', 'cifar100']:\n",
    "        num_original_classes=100 if source_net=='cifar100' else 10\n",
    "        print(model, source_net)\n",
    "        model_path =os.path.join(MODELS_DIR, \"%s_%s/saved_models/train_model_best\" % (model, source_net))\n",
    "        print(model_path)\n",
    "        if model=='resnet56':\n",
    "            from utils.resnets_cifar_adapted import ResNet,BasicBlock\n",
    "            net = ResNet(BasicBlock, [9, 9, 9],num_classes= num_original_classes)\n",
    "#             model_dict = dict_load(model_path, parallel=False)\n",
    "            model_dict = torch.load(f=model_path)\n",
    "        elif model=='densenet121':\n",
    "            from utils.densenets import DenseNet, Bottleneck\n",
    "            net=DenseNet(Bottleneck, [6,12,24,16], growth_rate=32,num_classes = num_original_classes)\n",
    "            model_dict = dict_load(model_path, parallel=True)\n",
    "#             net = torch.nn.DataParallel(net)        \n",
    "            model_dict = torch.load(f=model_path)\n",
    "        else:\n",
    "            raise ValueError(\"Model Architecture: \" + args.model + \" not supported\")\n",
    "#         torch.save(f=model_path+'2')\n",
    "        print(list(model_dict.keys())[:10])\n",
    "        net.load_state_dict(state_dict=model_dict['network'])"
   ]
  },
  {
   "cell_type": "code",
   "execution_count": 219,
   "metadata": {},
   "outputs": [],
   "source": [
    "model_path = '../experiments_results/densenet121_cifar100/saved_models/train_model_best'\n",
    "# net = ResNet(BasicBlock, [9, 9, 9],num_classes=100)\n",
    "# net2 = ResNet(BasicBlock, [9, 9, 9],num_classes=100)\n",
    "net=DenseNet(Bottleneck, [6,12,24,16], growth_rate=32,num_classes =100)\n",
    "net2=DenseNet(Bottleneck, [6,12,24,16], growth_rate=32,num_classes =100)\n",
    "model_dict = dict_load(model_path, parallel=True)"
   ]
  },
  {
   "cell_type": "code",
   "execution_count": 220,
   "metadata": {
    "scrolled": false
   },
   "outputs": [],
   "source": [
    "# net = torch.nn.DataParallel(net)\n",
    "net.load_state_dict(state_dict=model_dict)"
   ]
  },
  {
   "cell_type": "code",
   "execution_count": 221,
   "metadata": {
    "scrolled": false
   },
   "outputs": [],
   "source": [
    "net2.load_state_dict(net.state_dict())"
   ]
  },
  {
   "cell_type": "code",
   "execution_count": 222,
   "metadata": {
    "scrolled": false
   },
   "outputs": [],
   "source": [
    "net = torch.nn.DataParallel(net)"
   ]
  },
  {
   "cell_type": "code",
   "execution_count": 223,
   "metadata": {
    "scrolled": false
   },
   "outputs": [],
   "source": [
    "dic={'network':net2.state_dict()}"
   ]
  },
  {
   "cell_type": "code",
   "execution_count": 224,
   "metadata": {
    "scrolled": false
   },
   "outputs": [],
   "source": [
    "# net.module.state_dict()"
   ]
  },
  {
   "cell_type": "code",
   "execution_count": 225,
   "metadata": {},
   "outputs": [],
   "source": [
    "torch.save(dic,f=model_path+'_correct')"
   ]
  },
  {
   "cell_type": "code",
   "execution_count": 226,
   "metadata": {},
   "outputs": [],
   "source": [
    "test_model=torch.load(f=model_path+'_correct')"
   ]
  },
  {
   "cell_type": "code",
   "execution_count": 227,
   "metadata": {
    "scrolled": false
   },
   "outputs": [],
   "source": [
    "net2.load_state_dict(test_model['network'])"
   ]
  },
  {
   "cell_type": "code",
   "execution_count": 185,
   "metadata": {
    "scrolled": false
   },
   "outputs": [],
   "source": [
    "# net.load_state_dict(state_dict=model_dict)"
   ]
  },
  {
   "cell_type": "code",
   "execution_count": null,
   "metadata": {},
   "outputs": [],
   "source": []
  },
  {
   "cell_type": "code",
   "execution_count": 235,
   "metadata": {},
   "outputs": [],
   "source": [
    "def load_model(model, path):\n",
    "    if model=='resnet56':\n",
    "        from utils.resnets_cifar_adapted import ResNet,BasicBlock\n",
    "        net = ResNet(BasicBlock, [9, 9, 9],num_classes= num_original_classes)\n",
    "        model_dict = torch.load(f=model_path)\n",
    "    elif model=='densenet121':\n",
    "        from utils.densenets import DenseNet, Bottleneck\n",
    "        net=DenseNet(Bottleneck, [6,12,24,16], growth_rate=32,num_classes = num_original_classes)\n",
    "        model_dict = torch.load(f=model_path)\n",
    "    else:\n",
    "        raise Exception('Model %s not supported' %model)\n",
    "    net.load_state_dict(state_dict=model_dict['network'])"
   ]
  },
  {
   "cell_type": "code",
   "execution_count": 236,
   "metadata": {},
   "outputs": [
    {
     "data": {
      "text/plain": [
       "'../experiments_results/densenet121_cifar10/saved_models/train_model_best'"
      ]
     },
     "execution_count": 236,
     "metadata": {},
     "output_type": "execute_result"
    }
   ],
   "source": [
    "path"
   ]
  },
  {
   "cell_type": "code",
   "execution_count": 237,
   "metadata": {
    "scrolled": false
   },
   "outputs": [],
   "source": [
    "load_model('densenet121', path)"
   ]
  },
  {
   "cell_type": "code",
   "execution_count": null,
   "metadata": {},
   "outputs": [],
   "source": []
  }
 ],
 "metadata": {
  "kernelspec": {
   "display_name": "Python 3",
   "language": "python",
   "name": "python3"
  },
  "language_info": {
   "codemirror_mode": {
    "name": "ipython",
    "version": 3
   },
   "file_extension": ".py",
   "mimetype": "text/x-python",
   "name": "python",
   "nbconvert_exporter": "python",
   "pygments_lexer": "ipython3",
   "version": "3.6.7"
  }
 },
 "nbformat": 4,
 "nbformat_minor": 2
}
