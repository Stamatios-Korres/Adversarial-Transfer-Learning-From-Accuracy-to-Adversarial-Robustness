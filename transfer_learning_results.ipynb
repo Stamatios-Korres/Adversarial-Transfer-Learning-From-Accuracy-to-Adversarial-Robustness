{
 "cells": [
  {
   "cell_type": "code",
   "execution_count": 142,
   "metadata": {},
   "outputs": [],
   "source": [
    "import numpy as np\n",
    "import pandas as pd\n",
    "import matplotlib.pyplot as plt"
   ]
  },
  {
   "cell_type": "code",
   "execution_count": 143,
   "metadata": {},
   "outputs": [
    {
     "name": "stdout",
     "output_type": "stream",
     "text": [
      "test_acc,test_loss\r",
      "\r\n",
      "0.9102056962025317,0.2693341\r",
      "\r\n"
     ]
    }
   ],
   "source": [
    "!cat experiments_results/transfer_densenet121_cifar100_to_cifar10_lr_0.00100_all_layers/result_outputs/test_summary.csv"
   ]
  },
  {
   "cell_type": "code",
   "execution_count": 144,
   "metadata": {},
   "outputs": [],
   "source": [
    "root = 'experiments_results'"
   ]
  },
  {
   "cell_type": "code",
   "execution_count": 145,
   "metadata": {},
   "outputs": [],
   "source": [
    "models = ['resnet56', 'densenet121']\n",
    "datasets=['cifar10', 'cifar100']\n",
    "lr=[0.001, 0.01, 0.1]\n",
    "transfer=['all_layers', 'last_layer']"
   ]
  },
  {
   "cell_type": "code",
   "execution_count": 146,
   "metadata": {},
   "outputs": [
    {
     "data": {
      "text/plain": [
       "'cifar100'"
      ]
     },
     "execution_count": 146,
     "metadata": {},
     "output_type": "execute_result"
    }
   ],
   "source": [
    "datasets[1]"
   ]
  },
  {
   "cell_type": "code",
   "execution_count": 147,
   "metadata": {},
   "outputs": [],
   "source": [
    "import os\n",
    "data = []\n",
    "for di in [[0,1], [1,0]]:\n",
    "    d1 = datasets[di[0]]\n",
    "    d2 = datasets[di[1]]\n",
    "    for m in models:\n",
    "        for t in transfer:\n",
    "            for l in lr:\n",
    "                dire = 'transfer_'+m+'_'+d1+'_to_'+d2+'_lr_'+'%.5f_'%l +t +'/result_outputs/test_summary.csv'\n",
    "                f=pd.read_csv(os.path.join(root,dire))\n",
    "                data.append([d1+' to '+d2, m, t,l, f['test_acc'][0]])\n",
    "#                 print(d1+' to '+d2+'\\t'+m+'\\t'+'\\tLR:'+'%.3f\\t'%l +t, '%.3f' %f['test_acc'][0])"
   ]
  },
  {
   "cell_type": "code",
   "execution_count": 148,
   "metadata": {},
   "outputs": [],
   "source": [
    "df = pd.DataFrame(data, columns=['Direction', 'Model', 'Transfer Method', 'Learning Rate', 'Test Accuracy'])"
   ]
  },
  {
   "cell_type": "code",
   "execution_count": 149,
   "metadata": {},
   "outputs": [],
   "source": [
    "df = df.set_index('Direction', drop=True)"
   ]
  },
  {
   "cell_type": "code",
   "execution_count": 150,
   "metadata": {},
   "outputs": [
    {
     "data": {
      "text/html": [
       "<div>\n",
       "<style scoped>\n",
       "    .dataframe tbody tr th:only-of-type {\n",
       "        vertical-align: middle;\n",
       "    }\n",
       "\n",
       "    .dataframe tbody tr th {\n",
       "        vertical-align: top;\n",
       "    }\n",
       "\n",
       "    .dataframe thead th {\n",
       "        text-align: right;\n",
       "    }\n",
       "</style>\n",
       "<table border=\"1\" class=\"dataframe\">\n",
       "  <thead>\n",
       "    <tr style=\"text-align: right;\">\n",
       "      <th></th>\n",
       "      <th>Model</th>\n",
       "      <th>Transfer Method</th>\n",
       "      <th>Learning Rate</th>\n",
       "      <th>Test Accuracy</th>\n",
       "    </tr>\n",
       "    <tr>\n",
       "      <th>Direction</th>\n",
       "      <th></th>\n",
       "      <th></th>\n",
       "      <th></th>\n",
       "      <th></th>\n",
       "    </tr>\n",
       "  </thead>\n",
       "  <tbody>\n",
       "    <tr>\n",
       "      <th>cifar10 to cifar100</th>\n",
       "      <td>resnet56</td>\n",
       "      <td>all_layers</td>\n",
       "      <td>0.001</td>\n",
       "      <td>0.291139</td>\n",
       "    </tr>\n",
       "    <tr>\n",
       "      <th>cifar10 to cifar100</th>\n",
       "      <td>resnet56</td>\n",
       "      <td>all_layers</td>\n",
       "      <td>0.010</td>\n",
       "      <td>0.586926</td>\n",
       "    </tr>\n",
       "    <tr>\n",
       "      <th>cifar10 to cifar100</th>\n",
       "      <td>resnet56</td>\n",
       "      <td>all_layers</td>\n",
       "      <td>0.100</td>\n",
       "      <td>0.682259</td>\n",
       "    </tr>\n",
       "    <tr>\n",
       "      <th>cifar10 to cifar100</th>\n",
       "      <td>resnet56</td>\n",
       "      <td>last_layer</td>\n",
       "      <td>0.001</td>\n",
       "      <td>0.175237</td>\n",
       "    </tr>\n",
       "    <tr>\n",
       "      <th>cifar10 to cifar100</th>\n",
       "      <td>resnet56</td>\n",
       "      <td>last_layer</td>\n",
       "      <td>0.010</td>\n",
       "      <td>0.276503</td>\n",
       "    </tr>\n",
       "    <tr>\n",
       "      <th>cifar10 to cifar100</th>\n",
       "      <td>resnet56</td>\n",
       "      <td>last_layer</td>\n",
       "      <td>0.100</td>\n",
       "      <td>0.345431</td>\n",
       "    </tr>\n",
       "    <tr>\n",
       "      <th>cifar10 to cifar100</th>\n",
       "      <td>densenet121</td>\n",
       "      <td>all_layers</td>\n",
       "      <td>0.001</td>\n",
       "      <td>0.362441</td>\n",
       "    </tr>\n",
       "    <tr>\n",
       "      <th>cifar10 to cifar100</th>\n",
       "      <td>densenet121</td>\n",
       "      <td>all_layers</td>\n",
       "      <td>0.010</td>\n",
       "      <td>0.696895</td>\n",
       "    </tr>\n",
       "    <tr>\n",
       "      <th>cifar10 to cifar100</th>\n",
       "      <td>densenet121</td>\n",
       "      <td>all_layers</td>\n",
       "      <td>0.100</td>\n",
       "      <td>0.755142</td>\n",
       "    </tr>\n",
       "    <tr>\n",
       "      <th>cifar10 to cifar100</th>\n",
       "      <td>densenet121</td>\n",
       "      <td>last_layer</td>\n",
       "      <td>0.001</td>\n",
       "      <td>0.254351</td>\n",
       "    </tr>\n",
       "    <tr>\n",
       "      <th>cifar10 to cifar100</th>\n",
       "      <td>densenet121</td>\n",
       "      <td>last_layer</td>\n",
       "      <td>0.010</td>\n",
       "      <td>0.379945</td>\n",
       "    </tr>\n",
       "    <tr>\n",
       "      <th>cifar10 to cifar100</th>\n",
       "      <td>densenet121</td>\n",
       "      <td>last_layer</td>\n",
       "      <td>0.100</td>\n",
       "      <td>0.480716</td>\n",
       "    </tr>\n",
       "    <tr>\n",
       "      <th>cifar100 to cifar10</th>\n",
       "      <td>resnet56</td>\n",
       "      <td>all_layers</td>\n",
       "      <td>0.001</td>\n",
       "      <td>0.808347</td>\n",
       "    </tr>\n",
       "    <tr>\n",
       "      <th>cifar100 to cifar10</th>\n",
       "      <td>resnet56</td>\n",
       "      <td>all_layers</td>\n",
       "      <td>0.010</td>\n",
       "      <td>0.881230</td>\n",
       "    </tr>\n",
       "    <tr>\n",
       "      <th>cifar100 to cifar10</th>\n",
       "      <td>resnet56</td>\n",
       "      <td>all_layers</td>\n",
       "      <td>0.100</td>\n",
       "      <td>0.916535</td>\n",
       "    </tr>\n",
       "    <tr>\n",
       "      <th>cifar100 to cifar10</th>\n",
       "      <td>resnet56</td>\n",
       "      <td>last_layer</td>\n",
       "      <td>0.001</td>\n",
       "      <td>0.711531</td>\n",
       "    </tr>\n",
       "    <tr>\n",
       "      <th>cifar100 to cifar10</th>\n",
       "      <td>resnet56</td>\n",
       "      <td>last_layer</td>\n",
       "      <td>0.010</td>\n",
       "      <td>0.719047</td>\n",
       "    </tr>\n",
       "    <tr>\n",
       "      <th>cifar100 to cifar10</th>\n",
       "      <td>resnet56</td>\n",
       "      <td>last_layer</td>\n",
       "      <td>0.100</td>\n",
       "      <td>0.716871</td>\n",
       "    </tr>\n",
       "    <tr>\n",
       "      <th>cifar100 to cifar10</th>\n",
       "      <td>densenet121</td>\n",
       "      <td>all_layers</td>\n",
       "      <td>0.001</td>\n",
       "      <td>0.910206</td>\n",
       "    </tr>\n",
       "    <tr>\n",
       "      <th>cifar100 to cifar10</th>\n",
       "      <td>densenet121</td>\n",
       "      <td>all_layers</td>\n",
       "      <td>0.010</td>\n",
       "      <td>0.942939</td>\n",
       "    </tr>\n",
       "    <tr>\n",
       "      <th>cifar100 to cifar10</th>\n",
       "      <td>densenet121</td>\n",
       "      <td>all_layers</td>\n",
       "      <td>0.100</td>\n",
       "      <td>0.950850</td>\n",
       "    </tr>\n",
       "    <tr>\n",
       "      <th>cifar100 to cifar10</th>\n",
       "      <td>densenet121</td>\n",
       "      <td>last_layer</td>\n",
       "      <td>0.001</td>\n",
       "      <td>0.786195</td>\n",
       "    </tr>\n",
       "    <tr>\n",
       "      <th>cifar100 to cifar10</th>\n",
       "      <td>densenet121</td>\n",
       "      <td>last_layer</td>\n",
       "      <td>0.010</td>\n",
       "      <td>0.809237</td>\n",
       "    </tr>\n",
       "    <tr>\n",
       "      <th>cifar100 to cifar10</th>\n",
       "      <td>densenet121</td>\n",
       "      <td>last_layer</td>\n",
       "      <td>0.100</td>\n",
       "      <td>0.823873</td>\n",
       "    </tr>\n",
       "  </tbody>\n",
       "</table>\n",
       "</div>"
      ],
      "text/plain": [
       "                           Model Transfer Method  Learning Rate  Test Accuracy\n",
       "Direction                                                                     \n",
       "cifar10 to cifar100     resnet56      all_layers          0.001       0.291139\n",
       "cifar10 to cifar100     resnet56      all_layers          0.010       0.586926\n",
       "cifar10 to cifar100     resnet56      all_layers          0.100       0.682259\n",
       "cifar10 to cifar100     resnet56      last_layer          0.001       0.175237\n",
       "cifar10 to cifar100     resnet56      last_layer          0.010       0.276503\n",
       "cifar10 to cifar100     resnet56      last_layer          0.100       0.345431\n",
       "cifar10 to cifar100  densenet121      all_layers          0.001       0.362441\n",
       "cifar10 to cifar100  densenet121      all_layers          0.010       0.696895\n",
       "cifar10 to cifar100  densenet121      all_layers          0.100       0.755142\n",
       "cifar10 to cifar100  densenet121      last_layer          0.001       0.254351\n",
       "cifar10 to cifar100  densenet121      last_layer          0.010       0.379945\n",
       "cifar10 to cifar100  densenet121      last_layer          0.100       0.480716\n",
       "cifar100 to cifar10     resnet56      all_layers          0.001       0.808347\n",
       "cifar100 to cifar10     resnet56      all_layers          0.010       0.881230\n",
       "cifar100 to cifar10     resnet56      all_layers          0.100       0.916535\n",
       "cifar100 to cifar10     resnet56      last_layer          0.001       0.711531\n",
       "cifar100 to cifar10     resnet56      last_layer          0.010       0.719047\n",
       "cifar100 to cifar10     resnet56      last_layer          0.100       0.716871\n",
       "cifar100 to cifar10  densenet121      all_layers          0.001       0.910206\n",
       "cifar100 to cifar10  densenet121      all_layers          0.010       0.942939\n",
       "cifar100 to cifar10  densenet121      all_layers          0.100       0.950850\n",
       "cifar100 to cifar10  densenet121      last_layer          0.001       0.786195\n",
       "cifar100 to cifar10  densenet121      last_layer          0.010       0.809237\n",
       "cifar100 to cifar10  densenet121      last_layer          0.100       0.823873"
      ]
     },
     "execution_count": 150,
     "metadata": {},
     "output_type": "execute_result"
    }
   ],
   "source": [
    "df"
   ]
  },
  {
   "cell_type": "code",
   "execution_count": 167,
   "metadata": {
    "scrolled": false
   },
   "outputs": [
    {
     "data": {
      "image/png": "[encoded data removed]",
      "text/plain": [
       "<Figure size 432x288 with 1 Axes>"
      ]
     },
     "metadata": {
      "needs_background": "light"
     },
     "output_type": "display_data"
    },
    {
     "data": {
      "image/png": "[encoded data removed]",
      "text/plain": [
       "<Figure size 432x288 with 1 Axes>"
      ]
     },
     "metadata": {
      "needs_background": "light"
     },
     "output_type": "display_data"
    }
   ],
   "source": [
    "for di in [[0,1], [1,0]]:\n",
    "    d1 = datasets[di[0]]\n",
    "    d2 = datasets[di[1]]\n",
    "    plt.figure()\n",
    "    plt.title(d1+' '+d2)\n",
    "    plt.ylabel('Test accuracy')\n",
    "    plt.xlabel('Learning rate')\n",
    "    for m in models:\n",
    "        for t in transfer:\n",
    "            dd = df[(df['Model']==m) & (df['Transfer Method']==t)].loc[d1+' to '+d2]\n",
    "# dd = df[(df['Model']=='resnet56') & (df['Transfer Method']=='all_layers')].loc['cifar10 to cifar100']\n",
    "            x = dd['Learning Rate']\n",
    "            y = dd['Test Accuracy']\n",
    "            plt.plot(x,y, label=m+' '+t)\n",
    "    plt.legend()\n",
    "plt.show()"
   ]
  },
  {
   "cell_type": "code",
   "execution_count": null,
   "metadata": {},
   "outputs": [],
   "source": []
  },
  {
   "cell_type": "code",
   "execution_count": null,
   "metadata": {},
   "outputs": [],
   "source": []
  }
 ],
 "metadata": {
  "kernelspec": {
   "display_name": "Python 3",
   "language": "python",
   "name": "python3"
  },
  "language_info": {
   "codemirror_mode": {
    "name": "ipython",
    "version": 3
   },
   "file_extension": ".py",
   "mimetype": "text/x-python",
   "name": "python",
   "nbconvert_exporter": "python",
   "pygments_lexer": "ipython3",
   "version": "3.6.7"
  }
 },
 "nbformat": 4,
 "nbformat_minor": 2
}
